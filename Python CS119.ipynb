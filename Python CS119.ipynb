{
 "cells": [
  {
   "cell_type": "markdown",
   "metadata": {},
   "source": [
    "# Python for CS119\n",
    "## Functions, Objects, and Modules\n",
    "A module is a single python file and functions can be defined at the module level as shown below."
   ]
  },
  {
   "cell_type": "code",
   "execution_count": 2,
   "metadata": {},
   "outputs": [],
   "source": [
    "def foo(x):\n",
    "    return x ** 2\n",
    "\n",
    "def bar(x):\n",
    "    return foo(x) + foo(x)\n",
    "\n",
    "def foobar(x):\n",
    "    y = bar(x)\n",
    "    return 4 * y"
   ]
  },
  {
   "cell_type": "code",
   "execution_count": 3,
   "metadata": {},
   "outputs": [
    {
     "data": {
      "text/plain": [
       "8"
      ]
     },
     "execution_count": 3,
     "metadata": {},
     "output_type": "execute_result"
    }
   ],
   "source": [
    "foobar(1)"
   ]
  },
  {
   "cell_type": "markdown",
   "metadata": {},
   "source": [
    "Multiple objects can be defined within modules and whole modules orobjects/functions can be imported from modules. Pay attention to the use of SELF for object fields."
   ]
  },
  {
   "cell_type": "code",
   "execution_count": 4,
   "metadata": {},
   "outputs": [],
   "source": [
    "class Point:\n",
    "    def __init__(self, x, y):\n",
    "        self.x = x\n",
    "        self.y = y\n",
    "\n",
    "    def getX(self):\n",
    "        return self.x\n",
    "    \n",
    "    def getY(self):\n",
    "        return self.y\n",
    "\n",
    "    def getLocation(self):\n",
    "        return (self.x, self.y)"
   ]
  },
  {
   "cell_type": "code",
   "execution_count": 5,
   "metadata": {},
   "outputs": [
    {
     "data": {
      "text/plain": [
       "(10, 10)"
      ]
     },
     "execution_count": 5,
     "metadata": {},
     "output_type": "execute_result"
    }
   ],
   "source": [
    "p = Point(10, 10)\n",
    "p.getLocation()"
   ]
  },
  {
   "cell_type": "markdown",
   "metadata": {},
   "source": [
    "Importing modules is very easy and you can specify what objects/functions you want to import."
   ]
  },
  {
   "cell_type": "code",
   "execution_count": 6,
   "metadata": {},
   "outputs": [],
   "source": [
    "import random\n",
    "from math import sin, cos, radians, degrees, pi"
   ]
  },
  {
   "cell_type": "code",
   "execution_count": 7,
   "metadata": {},
   "outputs": [
    {
     "data": {
      "text/plain": [
       "0.9589157234143065"
      ]
     },
     "execution_count": 7,
     "metadata": {},
     "output_type": "execute_result"
    }
   ],
   "source": [
    "sin(degrees(pi * random.randrange(0, 4)))"
   ]
  },
  {
   "cell_type": "markdown",
   "metadata": {},
   "source": [
    "# Iteration, Conditionals, and Other Logic\n",
    "You can FOR to iterate through an iterable object or range of integers and you can use WHILE to do condition based iteration. You can also use the BREAK and CONTINUE statements. I use PRINT here to print text to the command line."
   ]
  },
  {
   "cell_type": "code",
   "execution_count": 8,
   "metadata": {},
   "outputs": [
    {
     "name": "stdout",
     "output_type": "stream",
     "text": [
      "0\n",
      "1\n",
      "2\n",
      "3\n",
      "4\n",
      "5\n",
      "6\n",
      "7\n",
      "8\n",
      "9\n"
     ]
    }
   ],
   "source": [
    "for x in range(0, 10):\n",
    "    print(x)"
   ]
  },
  {
   "cell_type": "code",
   "execution_count": 9,
   "metadata": {},
   "outputs": [
    {
     "name": "stdout",
     "output_type": "stream",
     "text": [
      "0\n",
      "1\n",
      "2\n",
      "3\n",
      "4\n",
      "5\n",
      "6\n",
      "7\n",
      "8\n",
      "9\n"
     ]
    }
   ],
   "source": [
    "i = 0\n",
    "while i < 10:\n",
    "    print(i)\n",
    "    i += 1"
   ]
  },
  {
   "cell_type": "markdown",
   "metadata": {},
   "source": [
    "To do define a list or tuple use the square brackets or parentheses. I use the Python defined length function LEN( ) to grab the objects length."
   ]
  },
  {
   "cell_type": "code",
   "execution_count": 10,
   "metadata": {},
   "outputs": [],
   "source": [
    "small_list = [1, 2, 3, 4, 5]\n",
    "small_tuple = (\"one\", \"two\")"
   ]
  },
  {
   "cell_type": "code",
   "execution_count": 11,
   "metadata": {},
   "outputs": [
    {
     "name": "stdout",
     "output_type": "stream",
     "text": [
      "1\n",
      "2\n",
      "3\n",
      "4\n",
      "5\n"
     ]
    }
   ],
   "source": [
    "for item in small_list:\n",
    "    print(item)"
   ]
  },
  {
   "cell_type": "code",
   "execution_count": 12,
   "metadata": {},
   "outputs": [
    {
     "name": "stdout",
     "output_type": "stream",
     "text": [
      "one\n",
      "two\n"
     ]
    }
   ],
   "source": [
    "for i in range(0, len(small_tuple)):\n",
    "    print(small_tuple[i])"
   ]
  },
  {
   "cell_type": "markdown",
   "metadata": {},
   "source": [
    "Here is some example conditional logic with IF, IF ELSE, and ELSE. "
   ]
  },
  {
   "cell_type": "code",
   "execution_count": 13,
   "metadata": {},
   "outputs": [
    {
     "name": "stdout",
     "output_type": "stream",
     "text": [
      "3\n"
     ]
    }
   ],
   "source": [
    "a = 3\n",
    "if a <= 0:\n",
    "    print(\"0\")\n",
    "elif a < 6:\n",
    "    print(a)\n",
    "elif 1 != 12:\n",
    "    print(\"not 12\")\n",
    "else:\n",
    "    print(\"6+\")"
   ]
  },
  {
   "cell_type": "markdown",
   "metadata": {},
   "source": [
    "# Data Structures and Object Manipulation\n",
    "Python provides the following data structures:\n",
    "\n",
    "| Python Name | DS          | Memory Allocation |\n",
    "|-------------|-------------|-------------------|\n",
    "| list        | Linked List | Dynamic           |\n",
    "| tuple       | Array       | Static            |\n",
    "| dictionary  | Hash Table  | Dynamic           |\n",
    "\n",
    "Here I create some DS’s with items already in them."
   ]
  },
  {
   "cell_type": "code",
   "execution_count": 14,
   "metadata": {},
   "outputs": [],
   "source": [
    "# list\n",
    "a = [1, 2, 3]\n",
    "\n",
    "# tuple\n",
    "b = (\"first\", \"second\")\n",
    "\n",
    "# dictionary\n",
    "c = {\"a\" : \"book\",\n",
    "     \"b\" : \"table\",\n",
    "     \"c\" : \"fan\"}"
   ]
  },
  {
   "cell_type": "markdown",
   "metadata": {},
   "source": [
    "You can add and remove items from lists and dictionaries but not tuples because they are immutable. Here I show how to index and add/remove items. Below I use the list object methods to append an item to add 4 to the list and then print it out. You can index tuples the same way. Dictionaries can be also indexed using square brackets to specify for what key you want to get the value for. "
   ]
  },
  {
   "cell_type": "code",
   "execution_count": 15,
   "metadata": {},
   "outputs": [
    {
     "name": "stdout",
     "output_type": "stream",
     "text": [
      "4\n",
      "second\n",
      "floor\n"
     ]
    }
   ],
   "source": [
    "a.append(4)\n",
    "print(a[3])\n",
    "print(b[1])\n",
    "c[\"d\"] = \"floor\"\n",
    "print(c[\"d\"])"
   ]
  },
  {
   "cell_type": "markdown",
   "metadata": {},
   "source": [
    "# Lambdas, List Comprehensions, and Mapping\n",
    "Lambdas are anonymous functions which can be used to greatly simplify sections of code and avoid repetition. The lambda function below adds the input to it’s square. "
   ]
  },
  {
   "cell_type": "code",
   "execution_count": 16,
   "metadata": {},
   "outputs": [],
   "source": [
    "function = lambda x: x + x ** 2\n",
    "solution = function(5)"
   ]
  },
  {
   "cell_type": "markdown",
   "metadata": {},
   "source": [
    "List comprehensions are also an easy way to clear up messy code with many iterations. List comprehensions can also be nested but that is not always recommended.  Here I create a LIST of the even numbers 0 - 50."
   ]
  },
  {
   "cell_type": "code",
   "execution_count": 32,
   "metadata": {},
   "outputs": [],
   "source": [
    "sample = [x for x in range(0, 50) if x % 2 == 0]"
   ]
  },
  {
   "cell_type": "markdown",
   "metadata": {},
   "source": [
    "It is not necessary to use the IF statement in a list comprehension and list comprehensions can be used to create TUPLES and DICTIONARIES. Here I create a tuple that has every element from the sample list + 2 and a sample dictionary with every element from the sample tuple as the key and every element cubed as the respective values."
   ]
  },
  {
   "cell_type": "code",
   "execution_count": 33,
   "metadata": {},
   "outputs": [],
   "source": [
    "sample_tuple = (y + 2 for y in sample)\n",
    "sample_dict = {z : z ** 3 for z in sample_tuple}"
   ]
  },
  {
   "cell_type": "markdown",
   "metadata": {},
   "source": [
    "You can iterate through a dictionary key : value pair using multiple indexing. It’s useful when performing actions on a dictionary."
   ]
  },
  {
   "cell_type": "code",
   "execution_count": 34,
   "metadata": {},
   "outputs": [
    {
     "name": "stdout",
     "output_type": "stream",
     "text": [
      "Key: 2 Value: 8\n",
      "Key: 4 Value: 64\n",
      "Key: 6 Value: 216\n",
      "Key: 8 Value: 512\n",
      "Key: 10 Value: 1000\n",
      "Key: 12 Value: 1728\n",
      "Key: 14 Value: 2744\n",
      "Key: 16 Value: 4096\n",
      "Key: 18 Value: 5832\n",
      "Key: 20 Value: 8000\n",
      "Key: 22 Value: 10648\n",
      "Key: 24 Value: 13824\n",
      "Key: 26 Value: 17576\n",
      "Key: 28 Value: 21952\n",
      "Key: 30 Value: 27000\n",
      "Key: 32 Value: 32768\n",
      "Key: 34 Value: 39304\n",
      "Key: 36 Value: 46656\n",
      "Key: 38 Value: 54872\n",
      "Key: 40 Value: 64000\n",
      "Key: 42 Value: 74088\n",
      "Key: 44 Value: 85184\n",
      "Key: 46 Value: 97336\n",
      "Key: 48 Value: 110592\n",
      "Key: 50 Value: 125000\n"
     ]
    }
   ],
   "source": [
    "for key, value in sample_dict.items():\n",
    "    print(\"Key: \" + str(key) + \" Value: \" + str(value))"
   ]
  },
  {
   "cell_type": "markdown",
   "metadata": {},
   "source": [
    "Mapping can be used to transform an iterable to a new iterable of the same length by specifying a function and iterable . The map will return a new iterable where each element corresponds to the function(each element) in the input iterable."
   ]
  },
  {
   "cell_type": "code",
   "execution_count": 20,
   "metadata": {},
   "outputs": [],
   "source": [
    "my_points = [Point(1, 2), Point(3, 4), Point(-5, -5)]"
   ]
  },
  {
   "cell_type": "code",
   "execution_count": 21,
   "metadata": {},
   "outputs": [],
   "source": [
    "my_points_x1 = map(Point.getX, my_points)\n",
    "my_points_x2 = map(lambda p: p.x, my_points)\n",
    "def getPointX(p): return p.x\n",
    "my_points_x3 = map(getPointX, my_points)"
   ]
  },
  {
   "cell_type": "markdown",
   "metadata": {},
   "source": [
    "# Statistics, Plotting and Graphing\n",
    "Import pyplot from matplotlib."
   ]
  },
  {
   "cell_type": "code",
   "execution_count": 22,
   "metadata": {},
   "outputs": [],
   "source": [
    "import numpy as np\n",
    "import matplotlib.pyplot as plt\n",
    "import scipy.stats as stats\n",
    "import math"
   ]
  },
  {
   "cell_type": "markdown",
   "metadata": {},
   "source": [
    "Here I plot a line by providing lists of x and y coordinates of a segmented line. "
   ]
  },
  {
   "cell_type": "code",
   "execution_count": 23,
   "metadata": {},
   "outputs": [
    {
     "data": {
      "image/png": "[encoded data removed]",
      "text/plain": [
       "<Figure size 432x288 with 1 Axes>"
      ]
     },
     "metadata": {
      "needs_background": "light"
     },
     "output_type": "display_data"
    }
   ],
   "source": [
    "plt.plot([1, 2, 3, 4], [1, 4, 9, 16])\n",
    "plt.ylabel('some numbers')\n",
    "plt.show()"
   ]
  },
  {
   "cell_type": "markdown",
   "metadata": {},
   "source": [
    "Here I show a normal curve specified by mean, variance, and parameters for the resolution of the curve and width of the plot. "
   ]
  },
  {
   "cell_type": "code",
   "execution_count": 24,
   "metadata": {},
   "outputs": [
    {
     "data": {
      "image/png": "[encoded data removed]",
      "text/plain": [
       "<Figure size 432x288 with 1 Axes>"
      ]
     },
     "metadata": {
      "needs_background": "light"
     },
     "output_type": "display_data"
    }
   ],
   "source": [
    "mean = 0\n",
    "variance = 1\n",
    "plot_width = 3\n",
    "resolution = 100\n",
    "std_dev = math.sqrt(variance)\n",
    "x = np.linspace(mean - plot_width * std_dev, mean + plot_width * std_dev, resolution)\n",
    "plt.plot(x, stats.norm.pdf(x, mean, std_dev))\n",
    "plt.show()"
   ]
  },
  {
   "cell_type": "markdown",
   "metadata": {},
   "source": [
    "We can use list comprehensions or the RANGE function to create a list of x and y coordinates to plot."
   ]
  },
  {
   "cell_type": "code",
   "execution_count": 25,
   "metadata": {},
   "outputs": [
    {
     "data": {
      "image/png": "[encoded data removed]",
      "text/plain": [
       "<Figure size 432x288 with 1 Axes>"
      ]
     },
     "metadata": {
      "needs_background": "light"
     },
     "output_type": "display_data"
    }
   ],
   "source": [
    "x = np.array(range(0, 100))\n",
    "y = x ** 2\n",
    "plt.plot(x, y)\n",
    "plt.show()"
   ]
  },
  {
   "cell_type": "markdown",
   "metadata": {},
   "source": [
    "# Multithreading, Callbacks, and Generators\n",
    "Adding concurrency to code is easy to do using the thread package."
   ]
  },
  {
   "cell_type": "code",
   "execution_count": 26,
   "metadata": {},
   "outputs": [],
   "source": [
    "import threading\n",
    "import time"
   ]
  },
  {
   "cell_type": "code",
   "execution_count": 27,
   "metadata": {},
   "outputs": [
    {
     "name": "stdout",
     "output_type": "stream",
     "text": [
      "thread1\n",
      "False\n",
      "abc\n"
     ]
    }
   ],
   "source": [
    "a = threading.Thread(target=print, args=(\"thread1\",))\n",
    "a.start() # OR a.run()\n",
    "print(a.isAlive())\n",
    "a.setName(\"abc\")\n",
    "print(a.getName())"
   ]
  },
  {
   "cell_type": "markdown",
   "metadata": {},
   "source": [
    "Python’s functionality and easy to use multithreading allows for an easy implementation of callbacks. "
   ]
  },
  {
   "cell_type": "code",
   "execution_count": 28,
   "metadata": {},
   "outputs": [],
   "source": [
    "# callback function\n",
    "def checkSum(a, b):\n",
    "    if (a + b) % 10 == 3:\n",
    "        return True\n",
    "    return False"
   ]
  },
  {
   "cell_type": "code",
   "execution_count": 29,
   "metadata": {},
   "outputs": [],
   "source": [
    "# calls callback function\n",
    "def doStuff(func):\n",
    "    i = 0; j = 0\n",
    "    while i < 10:\n",
    "        print(func(i, j))\n",
    "        i += 1\n",
    "        j += 1"
   ]
  },
  {
   "cell_type": "code",
   "execution_count": 30,
   "metadata": {},
   "outputs": [
    {
     "name": "stdout",
     "output_type": "stream",
     "text": [
      "False\n",
      "False\n",
      "False\n",
      "False\n",
      "False\n",
      "False\n",
      "False\n",
      "False\n",
      "False\n",
      "False\n"
     ]
    }
   ],
   "source": [
    "doStuff(checkSum)"
   ]
  },
  {
   "cell_type": "markdown",
   "metadata": {},
   "source": [
    "An example generator that uses the YIELD function instead of return and allows for parameters to be used in the function. Generators are useful for creating a general method that you want to use differently in multiple places. Generators can be used similar to iterables (lists, tuples, and dictionaries)."
   ]
  },
  {
   "cell_type": "code",
   "execution_count": 31,
   "metadata": {},
   "outputs": [
    {
     "name": "stdout",
     "output_type": "stream",
     "text": [
      "0\n",
      "1\n",
      "2\n",
      "3\n",
      "4\n",
      "5\n",
      "6\n",
      "7\n",
      "8\n",
      "9\n"
     ]
    }
   ],
   "source": [
    "# generator \n",
    "def gen(n):\n",
    "    num = 0\n",
    "    while num < n:\n",
    "        yield num\n",
    "        num += 1\n",
    "\n",
    "# print items from iterable instance of generator\n",
    "for i in gen(10):\n",
    "    print(i)"
   ]
  }
 ],
 "metadata": {
  "kernelspec": {
   "display_name": "Python 3",
   "language": "python",
   "name": "python3"
  },
  "language_info": {
   "codemirror_mode": {
    "name": "ipython",
    "version": 3
   },
   "file_extension": ".py",
   "mimetype": "text/x-python",
   "name": "python",
   "nbconvert_exporter": "python",
   "pygments_lexer": "ipython3",
   "version": "3.7.4"
  }
 },
 "nbformat": 4,
 "nbformat_minor": 2
}
